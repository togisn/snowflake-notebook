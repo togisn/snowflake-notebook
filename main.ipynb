{
 "metadata": {
  "kernelspec": {
   "display_name": ".venv",
   "language": "python",
   "name": "python3"
  },
  "language_info": {
   "codemirror_mode": {
    "name": "ipython",
    "version": 3
   },
   "file_extension": ".py",
   "mimetype": "text/x-python",
   "name": "python",
   "nbconvert_exporter": "python",
   "pygments_lexer": "ipython3",
   "version": "3.13.3"
  },
  "lastEditStatus": {
   "notebookId": "3t4kk4ytumj4pdyczxvn",
   "authorId": "7887846783980",
   "authorName": "TOGI",
   "authorEmail": "partogi.salomon@karyaperkasa.co.id",
   "sessionId": "7c0f3f14-3940-4df8-8acd-99f3844d2f53",
   "lastEditTime": 1755851802264
  }
 },
 "nbformat_minor": 5,
 "nbformat": 4,
 "cells": [
  {
   "cell_type": "code",
   "execution_count": 1,
   "id": "17375471-7895-40d2-abfd-5daf82119cae",
   "metadata": {
    "name": "cell1",
    "language": "python",
    "collapsed": false,
    "codeCollapsed": false
   },
   "outputs": [
    {
     "name": "stdout",
     "output_type": "stream",
     "text": [
      "Hello, World!\n"
     ]
    }
   ],
   "source": "print(\"Hello, World!\")"
  }
 ]
}