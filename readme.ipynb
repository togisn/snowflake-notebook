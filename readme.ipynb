{
 "cells": [
  {
   "cell_type": "markdown",
   "id": "db33e73f",
   "metadata": {},
   "source": [
    "# Hello World Jupyter Notebook\n",
    "\n",
    "This workspace contains a simple Jupyter notebook demonstrating a \"Hello, World!\" example in Python.\n",
    "\n",
    "## Files\n",
    "\n",
    "- [`hello-world.ipynb`](hello-world.ipynb): A Jupyter notebook that prints \"Hello, World!\" using Python.\n",
    "\n",
    "## Requirements\n",
    "\n",
    "- Python 3.13.3 or compatible\n",
    "- Jupyter Notebook\n",
    "\n",
    "## Usage\n",
    "\n",
    "1. Open [`hello-world.ipynb`](hello-world.ipynb) in Jupyter Notebook or VS Code.\n",
    "2. Run the code cell to see the output:\n",
    "\n",
    "    ```\n",
    "    Hello, World!\n",
    "    ```\n",
    "\n",
    "## License\n",
    "\n",
    "This project is"
   ]
  }
 ],
 "metadata": {
  "kernelspec": {
   "display_name": "Python 3",
   "language": "python",
   "name": "python3"
  },
  "language_info": {
   "name": "python",
   "version": "3.13.3"
  }
 },
 "nbformat": 4,
 "nbformat_minor": 5
}
